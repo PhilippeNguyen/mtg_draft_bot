{
 "metadata": {
  "language_info": {
   "codemirror_mode": {
    "name": "ipython",
    "version": 3
   },
   "file_extension": ".py",
   "mimetype": "text/x-python",
   "name": "python",
   "nbconvert_exporter": "python",
   "pygments_lexer": "ipython3",
   "version": "3.7.6"
  },
  "orig_nbformat": 2,
  "kernelspec": {
   "name": "python376jvsc74a57bd0df8386fc788d7f0d6287b78fcd2b59bc403f8c9cb89c430750ac66e2e20d4f0b",
   "display_name": "Python 3.7.6 64-bit ('py37': conda)"
  }
 },
 "nbformat": 4,
 "nbformat_minor": 2,
 "cells": [
  {
   "cell_type": "code",
   "execution_count": 3,
   "metadata": {},
   "outputs": [],
   "source": [
    "import pandas as pd\n",
    "import numpy as np\n"
   ]
  },
  {
   "cell_type": "code",
   "execution_count": 4,
   "metadata": {},
   "outputs": [],
   "source": [
    "card_name_df = pd.read_csv('/home/oem/Documents/Extras_Repos/My_Small_Repos/mtg_draft_bot/metadata/STX_card_names.csv')\n",
    "# draft_csv_path = '/media/oem/8931ed1e-dc55-44ac-b428-d43ad01d9eb3/Data/mtg_draft_bot/17lands/draft_data_public.STX_comma.TradDraft.csv'\n",
    "draft_csv_path = '/media/oem/8931ed1e-dc55-44ac-b428-d43ad01d9eb3/Data/mtg_draft_bot/17lands/draft_data_public.STX.PremierDraft.csv'\n",
    "init_df = pd.read_csv(draft_csv_path,nrows=1)\n",
    "col_names = init_df.columns\n",
    "pack_cols = [ name\n",
    "                for name in col_names\n",
    "                if name.startswith('pack_card_')]"
   ]
  },
  {
   "cell_type": "code",
   "execution_count": 5,
   "metadata": {},
   "outputs": [],
   "source": [
    "def parse_row(row):\n",
    "    card_bin = row[pack_cols].values.astype(np.uint8)\n",
    "    in_pack = np.where(card_bin==1)[0]\n",
    "    out = {'stx_common':0,'stx_uncommon':0,'stx_rare':0,'stx_mythic':0,'sta_uncommon':0,'sta_rare':0,'sta_mythic':0,'lesson_common':0,'lesson_uncommon':0,'lesson_rare':0,'lesson_mythic':0}\n",
    "    for in_pack_idx in in_pack:\n",
    "        set = card_name_df.iloc[in_pack_idx]['Set Code']\n",
    "        rarity = card_name_df.iloc[in_pack_idx]['Rarity']\n",
    "        is_lesson = card_name_df.iloc[in_pack_idx]['Type'].endswith('Lesson')\n",
    "        if is_lesson:\n",
    "            out['lesson_'+rarity]+=1\n",
    "        else:\n",
    "            out[set+'_'+rarity]+=1\n",
    "    return out\n"
   ]
  },
  {
   "cell_type": "code",
   "execution_count": 6,
   "metadata": {},
   "outputs": [],
   "source": [
    "test_df = pd.read_csv(draft_csv_path,nrows=1000)\n",
    "sub_df = test_df[test_df['pick_number']==0]"
   ]
  },
  {
   "cell_type": "code",
   "execution_count": 7,
   "metadata": {},
   "outputs": [
    {
     "output_type": "execute_result",
     "data": {
      "text/plain": [
       "{'stx_common': 9,\n",
       " 'stx_uncommon': 3,\n",
       " 'stx_rare': 1,\n",
       " 'stx_mythic': 0,\n",
       " 'sta_uncommon': 1,\n",
       " 'sta_rare': 0,\n",
       " 'sta_mythic': 0,\n",
       " 'lesson_common': 1,\n",
       " 'lesson_uncommon': 0,\n",
       " 'lesson_rare': 0,\n",
       " 'lesson_mythic': 0}"
      ]
     },
     "metadata": {},
     "execution_count": 7
    }
   ],
   "source": [
    "aa = sub_df.iloc[0]\n",
    "parse_row(aa)\n"
   ]
  },
  {
   "cell_type": "code",
   "execution_count": 8,
   "metadata": {},
   "outputs": [
    {
     "output_type": "stream",
     "name": "stdout",
     "text": [
      "done parsing\n"
     ]
    }
   ],
   "source": [
    "all_outs = []\n",
    "for chunk in  pd.read_csv(draft_csv_path,chunksize=10000):\n",
    "    sub_df = chunk[chunk['pick_number']==0]\n",
    "    for row_idx,row in sub_df.iterrows():\n",
    "        out = parse_row(row)\n",
    "        all_outs.append(out)\n",
    "print('done parsing')"
   ]
  },
  {
   "cell_type": "code",
   "execution_count": 9,
   "metadata": {},
   "outputs": [
    {
     "output_type": "stream",
     "name": "stdout",
     "text": [
      "0\n"
     ]
    }
   ],
   "source": [
    "multi_sta = 0\n",
    "for out in all_outs:\n",
    "    if out['sta_uncommon'] +out['sta_rare']+out['sta_mythic'] >1:\n",
    "        multi_sta+=1\n",
    "print(multi_sta)"
   ]
  },
  {
   "cell_type": "code",
   "execution_count": 10,
   "metadata": {},
   "outputs": [
    {
     "output_type": "stream",
     "name": "stdout",
     "text": [
      "0\n"
     ]
    }
   ],
   "source": [
    "multi_sta = 0\n",
    "for out in all_outs:\n",
    "    if out['sta_uncommon'] +out['sta_rare']+out['sta_mythic'] >1:\n",
    "        multi_sta+=1\n",
    "print(multi_sta)"
   ]
  },
  {
   "cell_type": "code",
   "execution_count": 11,
   "metadata": {},
   "outputs": [
    {
     "output_type": "stream",
     "name": "stdout",
     "text": [
      " prob switch : 0.1865764233993527\n"
     ]
    }
   ],
   "source": [
    "#probability that 1 stx_uncommon will be swapped for 1 lesson_uncommon, happens only once per pack, and happens independently of the card in the  (common/rare) lesson slot\n",
    "total_lesson_uncommon = 0\n",
    "for out in all_outs:\n",
    "    if out['lesson_uncommon'] ==1:\n",
    "        total_lesson_uncommon+=1\n",
    "    else:\n",
    "        if out['stx_uncommon'] != 3:\n",
    "            print(\"This shouldn't happen\")\n",
    "print(\" prob switch : {}\".format(total_lesson_uncommon/len(all_outs)))"
   ]
  },
  {
   "cell_type": "code",
   "execution_count": 12,
   "metadata": {},
   "outputs": [
    {
     "output_type": "stream",
     "name": "stdout",
     "text": [
      " common lesson rate : 0.924774665362472, rare lesson rate : 0.06804351108456039, mythic lesson rate : 0.00718182355296759\n"
     ]
    }
   ],
   "source": [
    "#probabilities for the lesson slot(can only be common/uncommon/mythic)\n",
    "total_lesson_common = 0\n",
    "total_lesson_rare = 0\n",
    "total_lesson_mythic = 0\n",
    "for out in all_outs:\n",
    "    if out['lesson_common'] ==1:\n",
    "        total_lesson_common+=1\n",
    "    elif out['lesson_rare'] ==1:\n",
    "        total_lesson_rare+=1\n",
    "    elif out['lesson_mythic'] ==1:\n",
    "        total_lesson_mythic+=1\n",
    "    else:\n",
    "        print('this shouldnt happen')\n",
    "if total_lesson_common+total_lesson_rare+total_lesson_mythic!=len(all_outs):\n",
    "    print('this shouldnt happen')\n",
    "print(\" common lesson rate : {}, rare lesson rate : {}, mythic lesson rate : {}\".format(total_lesson_common/len(all_outs),\n",
    "                                                                                         total_lesson_rare/len(all_outs),\n",
    "                                                                                         total_lesson_mythic/len(all_outs),   ))"
   ]
  },
  {
   "cell_type": "code",
   "execution_count": 13,
   "metadata": {},
   "outputs": [
    {
     "output_type": "stream",
     "name": "stdout",
     "text": [
      " sta uncommon rate : 0.6666819843890527, rare sta rate : 0.26613448522605676, mythic sta rate : 0.0671835303848906\n"
     ]
    }
   ],
   "source": [
    "total_sta_uncommon = 0\n",
    "total_sta_rare = 0\n",
    "total_sta_mythic = 0\n",
    "for out in all_outs:\n",
    "    if out['sta_uncommon'] ==1:\n",
    "        total_sta_uncommon+=1\n",
    "    elif out['sta_rare'] ==1:\n",
    "        total_sta_rare+=1\n",
    "    elif out['sta_mythic'] ==1:\n",
    "        total_sta_mythic+=1\n",
    "    else:\n",
    "        print('this shouldnt happen')\n",
    "print(\" sta uncommon rate : {}, rare sta rate : {}, mythic sta rate : {}\".format(total_sta_uncommon/len(all_outs),\n",
    "                                                                                         total_sta_rare/len(all_outs),\n",
    "                                                                                         total_sta_mythic/len(all_outs),   ))"
   ]
  },
  {
   "cell_type": "code",
   "execution_count": 15,
   "metadata": {},
   "outputs": [
    {
     "output_type": "stream",
     "name": "stdout",
     "text": [
      " rare stx rate : 0.8635650467081121, mythic stx rate : 0.13643495329188796\n"
     ]
    }
   ],
   "source": [
    "total_stx_rare = 0\n",
    "total_stx_mythic = 0\n",
    "for out in all_outs:\n",
    "\n",
    "    if out['stx_rare'] ==1:\n",
    "        total_stx_rare+=1\n",
    "    elif out['stx_mythic'] ==1:\n",
    "        total_stx_mythic+=1\n",
    "    else:\n",
    "        print('this shouldnt happen')\n",
    "print(\" rare stx rate : {}, mythic stx rate : {}\".format(\n",
    "                                                                                         total_stx_rare/len(all_outs),\n",
    "                                                                                         total_stx_mythic/len(all_outs),   ))"
   ]
  },
  {
   "cell_type": "code",
   "execution_count": null,
   "metadata": {},
   "outputs": [],
   "source": []
  }
 ]
}